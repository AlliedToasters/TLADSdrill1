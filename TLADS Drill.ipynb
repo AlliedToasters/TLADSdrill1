{
 "cells": [
  {
   "cell_type": "code",
   "execution_count": 1,
   "metadata": {
    "collapsed": true
   },
   "outputs": [],
   "source": [
    "import pandas as pd"
   ]
  },
  {
   "cell_type": "code",
   "execution_count": 2,
   "metadata": {
    "collapsed": true
   },
   "outputs": [],
   "source": [
    "df = pd.read_csv('ESSdata_Thinkful.csv')"
   ]
  },
  {
   "cell_type": "markdown",
   "metadata": {},
   "source": [
    "## TLADS Drill\n",
    "\n",
    "Categorize each of the variables in the ESS dataset as categorical or continuous, and if continuous as ordinal, interval, or ratio variables.  Check your work with your mentor, and discuss what that information might imply for feature engineering with this data."
   ]
  },
  {
   "cell_type": "code",
   "execution_count": 3,
   "metadata": {},
   "outputs": [
    {
     "data": {
      "text/plain": [
       "Index(['cntry', 'idno', 'year', 'tvtot', 'ppltrst', 'pplfair', 'pplhlp',\n",
       "       'happy', 'sclmeet', 'sclact', 'gndr', 'agea', 'partner'],\n",
       "      dtype='object')"
      ]
     },
     "execution_count": 3,
     "metadata": {},
     "output_type": "execute_result"
    }
   ],
   "source": [
    "df.columns"
   ]
  },
  {
   "cell_type": "markdown",
   "metadata": {},
   "source": [
    "<B>'cntry':</B> country, categorical.<br>\n",
    "<B>'idno':</B> identification number, ordinal<br>\n",
    "<B>'year':</B> testing round, ordinal<br>\n",
    "<B>'tvtot':</B> time watching tv, ratio<br><br>\n",
    "\n",
    "\n",
    "<B>--- I'm not so sure about these ones ---</B> <br>\n",
    "<B>'ppltrst':</B> asked if can trust people, ratio?<br>\n",
    "<B>'pplfair':</B> asked if people are fair, ratio?<br>\n",
    "<B>'pplhlp':</B> asked if people are helpful, ratio?<br>\n",
    "<B>'happy':</B> how happy are you, 1-10, interval?<br><br>\n",
    "\n",
    "<B>------------------------------------------------------</B>\n",
    "\n",
    "\n",
    "<B>'sclmeet':</B> how often do you meet with friends, ratio<br>\n",
    "<B>'sclact':</B> compare personal social activity to similar age group, ratio<br>\n",
    "<B>'gndr':</B> gender, categorical<br>\n",
    "<B>'agea':</B> age, ratio<br><br>\n",
    "<B>'partner':</B> lives with a partner, categorical<br>"
   ]
  },
  {
   "cell_type": "markdown",
   "metadata": {
    "collapsed": true
   },
   "source": [
    "Definitions from course material:"
   ]
  },
  {
   "cell_type": "markdown",
   "metadata": {},
   "source": [
    "## Thinking Like a Data Scientist\n",
    "\n",
    "While a programmer thinks in terms of strings, ints, and floats, a data scientist sees variables as categorical (also called nominal) or continuous, and within the continuous group subdivided into _ordinal_, _interval_, and _ratio_.\n",
    "\n",
    "### Ordinal variables\n",
    "\n",
    "Ordinal variables indicate rank-order.  For example, runners could be scored 1 for first place, 2 for second place, 3 for third place, etc.   However, an ordinal variable does not give any information on the distance between the scores.  We know that the 1st-place runner was faster than the 2nd-place runner, but the difference in their times (the distance between them within the variable) could be minutes or milliseconds.  In addition, the difference in times between 1st and 2nd place is probably not the same as the difference in times between 2nd and 3rd place.  \n",
    "\n",
    "Ordinal variables are often treated like categorical features in analyses, because it doesn't make sense to use them in most mathematical operations.\n",
    "\n",
    "\n",
    "### Interval variables\n",
    "\n",
    "Interval variables indicate both rank-order and distance.  Temperature is a good example of an interval variable.  The distance between 30 and 40 degrees Fahrenheit is the same as the distance between 70 and 80 degrees (10 degrees).  Interval variables lack an absolute zero point-- a temperature of 0 degrees Fahrenheit does not mean that there is no warmth in the air at all!  The lack of an absolute zero point means that we cannot logically make a ratio from an interval variable- 60 degrees F, for example, is not twice as hot as 30 degrees F. \n",
    "\n",
    "Interval variables can be treated as either categorical or continuous features, depending on how comfortable you are with the assumption made by most models that a continuous variable naturally has an absolute zero point.\n",
    "\n",
    "\n",
    "### Ratio variables\n",
    "\n",
    "Finally, ratio variables indicate rank, distance, and a meaningful absolute zero value – when a ratio variable has a score of 0, we know that none of the quantity measured by the variable is present.  Age is a ratio variable: Somebody 0 years old has not been born yet, and someone 20 years old has lived twice as long as someone 10 years old.\n"
   ]
  },
  {
   "cell_type": "code",
   "execution_count": null,
   "metadata": {
    "collapsed": true
   },
   "outputs": [],
   "source": []
  }
 ],
 "metadata": {
  "kernelspec": {
   "display_name": "Python 3",
   "language": "python",
   "name": "python3"
  },
  "language_info": {
   "codemirror_mode": {
    "name": "ipython",
    "version": 3
   },
   "file_extension": ".py",
   "mimetype": "text/x-python",
   "name": "python",
   "nbconvert_exporter": "python",
   "pygments_lexer": "ipython3",
   "version": "3.6.1"
  }
 },
 "nbformat": 4,
 "nbformat_minor": 2
}
