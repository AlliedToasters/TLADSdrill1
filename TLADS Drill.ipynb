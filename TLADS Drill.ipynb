{
 "cells": [
  {
   "cell_type": "code",
   "execution_count": 1,
   "metadata": {
    "collapsed": true
   },
   "outputs": [],
   "source": [
    "import pandas as pd"
   ]
  },
  {
   "cell_type": "code",
   "execution_count": 2,
   "metadata": {
    "collapsed": true
   },
   "outputs": [],
   "source": [
    "df = pd.read_csv('ESSdata_Thinkful.csv')"
   ]
  },
  {
   "cell_type": "markdown",
   "metadata": {},
   "source": [
    "## TLADS Drill\n",
    "\n",
    "Categorize each of the variables in the ESS dataset as categorical or continuous, and if continuous as ordinal, interval, or ratio variables.  Check your work with your mentor, and discuss what that information might imply for feature engineering with this data."
   ]
  },
  {
   "cell_type": "code",
   "execution_count": 3,
   "metadata": {},
   "outputs": [
    {
     "data": {
      "text/plain": [
       "Index(['cntry', 'idno', 'year', 'tvtot', 'ppltrst', 'pplfair', 'pplhlp',\n",
       "       'happy', 'sclmeet', 'sclact', 'gndr', 'agea', 'partner'],\n",
       "      dtype='object')"
      ]
     },
     "execution_count": 3,
     "metadata": {},
     "output_type": "execute_result"
    }
   ],
   "source": [
    "df.columns"
   ]
  },
  {
   "cell_type": "markdown",
   "metadata": {},
   "source": [
    "<B>'cntry':</B> country, categorical.<br>\n",
    "<B>'idno':</B> identification number, ordinal<br>\n",
    "<B>'year':</B> testing round, ordinal<br>\n",
    "<B>'tvtot':</B> time watching tv, ratio<br><br>\n",
    "\n",
    "\n",
    "<B>--- I'm not so sure about these ones ---</B> <br>\n",
    "<B>'ppltrst':</B> asked if can trust people, ratio?<br>\n",
    "<B>'pplfair':</B> asked if people are fair, ratio?<br>\n",
    "<B>'pplhlp':</B> asked if people are helpful, ratio?<br>\n",
    "<B>'happy':</B> how happy are you, 1-10, interval?<br><br>\n",
    "\n",
    "<B>------------------------------------------------------</B>\n",
    "\n",
    "\n",
    "<B>'sclmeet':</B> how often do you meet with friends, ratio<br>\n",
    "<B>'sclact':</B> compare personal social activity to similar age group, ratio<br>\n",
    "<B>'gndr':</B> gender, categorical<br>\n",
    "<B>'agea':</B> age, ratio<br><br>\n",
    "<B>'partner':</B> lives with a partner, categorical<br>"
   ]
  },
  {
   "cell_type": "code",
   "execution_count": null,
   "metadata": {
    "collapsed": true
   },
   "outputs": [],
   "source": []
  }
 ],
 "metadata": {
  "kernelspec": {
   "display_name": "Python 3",
   "language": "python",
   "name": "python3"
  },
  "language_info": {
   "codemirror_mode": {
    "name": "ipython",
    "version": 3
   },
   "file_extension": ".py",
   "mimetype": "text/x-python",
   "name": "python",
   "nbconvert_exporter": "python",
   "pygments_lexer": "ipython3",
   "version": "3.6.1"
  }
 },
 "nbformat": 4,
 "nbformat_minor": 2
}
